{
 "cells": [
  {
   "cell_type": "code",
   "execution_count": 1,
   "metadata": {
    "collapsed": false
   },
   "outputs": [
    {
     "name": "stdout",
     "output_type": "stream",
     "text": [
      "Hello World\n",
      "(110175L,)\n",
      "110175\n",
      "(44100, array([37, 28, 15, ..., 23,  8,  4], dtype=int16), 2.498299319727891)\n"
     ]
    },
    {
     "data": {
      "text/plain": [
       "<matplotlib.text.Text at 0x850d8d0>"
      ]
     },
     "execution_count": 1,
     "metadata": {},
     "output_type": "execute_result"
    }
   ],
   "source": [
    "from pylab import*\n",
    "from scipy.io import wavfile\n",
    "\n",
    "print(\"Hello World\")\n",
    "sampFreq, snd = wavfile.read('C:/Users/raro/Desktop/pianoc.wav')\n",
    "print snd.shape\n",
    "print snd.shape[0]\n",
    "duration=float(snd.shape[0])/float(sampFreq)    #in secs\n",
    "print(sampFreq, snd, duration)\n",
    "\n",
    "\n",
    "timeArray = arange(0, snd.shape[0], 1)\n",
    "timeArray = timeArray / sampFreq\n",
    "timeArray = timeArray * 1000  #scale to milliseconds\n",
    "plot(timeArray, snd, color='k')\n",
    "ylabel('Amplitude')\n",
    "xlabel('Time (ms)')"
   ]
  },
  {
   "cell_type": "code",
   "execution_count": null,
   "metadata": {
    "collapsed": true
   },
   "outputs": [],
   "source": []
  }
 ],
 "metadata": {
  "kernelspec": {
   "display_name": "Python 2",
   "language": "python",
   "name": "python2"
  },
  "language_info": {
   "codemirror_mode": {
    "name": "ipython",
    "version": 2
   },
   "file_extension": ".py",
   "mimetype": "text/x-python",
   "name": "python",
   "nbconvert_exporter": "python",
   "pygments_lexer": "ipython2",
   "version": "2.7.13"
  }
 },
 "nbformat": 4,
 "nbformat_minor": 0
}
